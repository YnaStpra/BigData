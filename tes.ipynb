{
 "cells": [
  {
   "cell_type": "code",
   "execution_count": 1,
   "metadata": {},
   "outputs": [],
   "source": [
    "a = 10\n",
    "b = 12"
   ]
  },
  {
   "cell_type": "code",
   "execution_count": 2,
   "metadata": {},
   "outputs": [
    {
     "name": "stdout",
     "output_type": "stream",
     "text": [
      "22\n"
     ]
    }
   ],
   "source": [
    "print(a+b)"
   ]
  },
  {
   "cell_type": "code",
   "execution_count": 3,
   "metadata": {},
   "outputs": [],
   "source": [
    "from math import sqrt"
   ]
  },
  {
   "cell_type": "code",
   "execution_count": 4,
   "metadata": {},
   "outputs": [
    {
     "name": "stdout",
     "output_type": "stream",
     "text": [
      "hasilnya : 4.69041575982343\n"
     ]
    }
   ],
   "source": [
    "print(\"hasilnya : \"+str(sqrt(a+b)))"
   ]
  },
  {
   "cell_type": "code",
   "execution_count": 5,
   "metadata": {},
   "outputs": [],
   "source": [
    "c = [1,2,3,4]"
   ]
  },
  {
   "cell_type": "code",
   "execution_count": 6,
   "metadata": {},
   "outputs": [
    {
     "name": "stdout",
     "output_type": "stream",
     "text": [
      "2\n",
      "4\n"
     ]
    }
   ],
   "source": [
    "for x in c:\n",
    "    if x%2==0:\n",
    "        print(x)"
   ]
  },
  {
   "cell_type": "code",
   "execution_count": 7,
   "metadata": {},
   "outputs": [],
   "source": [
    "for x in range(5,100,1):\n",
    "    c.append(x)"
   ]
  },
  {
   "cell_type": "code",
   "execution_count": 8,
   "metadata": {},
   "outputs": [],
   "source": [
    "c.append([100,101,102,103])"
   ]
  },
  {
   "cell_type": "code",
   "execution_count": 9,
   "metadata": {},
   "outputs": [],
   "source": [
    "c.append(\"test\")"
   ]
  },
  {
   "cell_type": "code",
   "execution_count": 10,
   "metadata": {},
   "outputs": [],
   "source": [
    "c.extend([100,101,102,103])"
   ]
  },
  {
   "cell_type": "code",
   "execution_count": 11,
   "metadata": {},
   "outputs": [
    {
     "name": "stdout",
     "output_type": "stream",
     "text": [
      "[1, 2, 3, 4, 5, 6, 7, 8, 9, 10, 11, 12, 13, 14, 15, 16, 17, 18, 19, 20, 21, 22, 23, 24, 25, 26, 27, 28, 29, 30, 31, 32, 33, 34, 35, 36, 37, 38, 39, 40, 41, 42, 43, 44, 45, 46, 47, 48, 49, 50, 51, 52, 53, 54, 55, 56, 57, 58, 59, 60, 61, 62, 63, 64, 65, 66, 67, 68, 69, 70, 71, 72, 73, 74, 75, 76, 77, 78, 79, 80, 81, 82, 83, 84, 85, 86, 87, 88, 89, 90, 91, 92, 93, 94, 95, 96, 97, 98, 99, [100, 101, 102, 103], 'test', 100, 101, 102, 103]\n"
     ]
    }
   ],
   "source": [
    "print(c)"
   ]
  },
  {
   "cell_type": "code",
   "execution_count": 12,
   "metadata": {},
   "outputs": [],
   "source": [
    "d = [{'nama':\"si A\", 'umur':20, 'hobi':['makan','minum','tidur']},{'nama':\"si B\",'umur':21,'hobi':['hidup']}]"
   ]
  },
  {
   "cell_type": "code",
   "execution_count": 13,
   "metadata": {},
   "outputs": [
    {
     "name": "stdout",
     "output_type": "stream",
     "text": [
      "tidur\n"
     ]
    }
   ],
   "source": [
    "print(d[0]['hobi'][2])"
   ]
  },
  {
   "cell_type": "code",
   "execution_count": 16,
   "metadata": {},
   "outputs": [],
   "source": [
    "import pandas as pd\n",
    "\n",
    "a = pd.Series([1, 2, 3, 4, 5], index=['pertama', 'b', 'c', 'd', 'e'])\n"
   ]
  },
  {
   "cell_type": "code",
   "execution_count": 17,
   "metadata": {},
   "outputs": [
    {
     "name": "stdout",
     "output_type": "stream",
     "text": [
      "pertama    1\n",
      "b          2\n",
      "c          3\n",
      "d          4\n",
      "e          5\n",
      "dtype: int64\n"
     ]
    }
   ],
   "source": [
    "print(a)"
   ]
  },
  {
   "cell_type": "code",
   "execution_count": 18,
   "metadata": {},
   "outputs": [
    {
     "name": "stdout",
     "output_type": "stream",
     "text": [
      "c    3\n",
      "e    5\n",
      "dtype: int64\n"
     ]
    }
   ],
   "source": [
    "print(a[['c','e']])"
   ]
  },
  {
   "cell_type": "code",
   "execution_count": 23,
   "metadata": {},
   "outputs": [],
   "source": [
    "df = pd.DataFrame([[1,2,3,4],[5,6,7,8],[9,3,6,4],[0,2,5,3],[8,2,8,9],[7,3,5,1]],columns=['a','b','c','d'])"
   ]
  },
  {
   "cell_type": "code",
   "execution_count": 24,
   "metadata": {},
   "outputs": [
    {
     "name": "stdout",
     "output_type": "stream",
     "text": [
      "   a  b  c  d\n",
      "0  1  2  3  4\n",
      "1  5  6  7  8\n",
      "2  9  3  6  4\n",
      "3  0  2  5  3\n",
      "4  8  2  8  9\n",
      "5  7  3  5  1\n"
     ]
    }
   ],
   "source": [
    "print(df)"
   ]
  },
  {
   "cell_type": "code",
   "execution_count": 29,
   "metadata": {},
   "outputs": [],
   "source": [
    "df = pd.read_csv('vgsales.csv')"
   ]
  },
  {
   "cell_type": "code",
   "execution_count": 31,
   "metadata": {},
   "outputs": [
    {
     "name": "stdout",
     "output_type": "stream",
     "text": [
      "        Rank                                               Name Platform  \\\n",
      "0        259                                          Asteroids     2600   \n",
      "1        545                                    Missile Command     2600   \n",
      "2       1768                                            Kaboom!     2600   \n",
      "3       1971                                           Defender     2600   \n",
      "4       2671                                             Boxing     2600   \n",
      "...      ...                                                ...      ...   \n",
      "16319  16565                                       Mighty No. 9     XOne   \n",
      "16320  16572                                 Resident Evil 4 HD     XOne   \n",
      "16321  16573                      Farming 2017 - The Simulation      PS4   \n",
      "16322  16579                                  Rugby Challenge 3     XOne   \n",
      "16323  16592  Chou Ezaru wa Akai Hana: Koi wa Tsuki ni Shiru...      PSV   \n",
      "\n",
      "       Year       Genre             Publisher  NA_Sales  EU_Sales  JP_Sales  \\\n",
      "0      1980     Shooter                 Atari      4.00      0.26      0.00   \n",
      "1      1980     Shooter                 Atari      2.56      0.17      0.00   \n",
      "2      1980        Misc            Activision      1.07      0.07      0.00   \n",
      "3      1980        Misc                 Atari      0.99      0.05      0.00   \n",
      "4      1980    Fighting            Activision      0.72      0.04      0.00   \n",
      "...     ...         ...                   ...       ...       ...       ...   \n",
      "16319  2016    Platform           Deep Silver      0.01      0.00      0.00   \n",
      "16320  2016     Shooter                Capcom      0.01      0.00      0.00   \n",
      "16321  2016  Simulation     UIG Entertainment      0.00      0.01      0.00   \n",
      "16322  2016      Sports  Alternative Software      0.00      0.01      0.00   \n",
      "16323  2016      Action       dramatic create      0.00      0.00      0.01   \n",
      "\n",
      "       Other_Sales  Global_Sales  \n",
      "0             0.05          4.31  \n",
      "1             0.03          2.76  \n",
      "2             0.01          1.15  \n",
      "3             0.01          1.05  \n",
      "4             0.01          0.77  \n",
      "...            ...           ...  \n",
      "16319         0.00          0.01  \n",
      "16320         0.00          0.01  \n",
      "16321         0.00          0.01  \n",
      "16322         0.00          0.01  \n",
      "16323         0.00          0.01  \n",
      "\n",
      "[16324 rows x 11 columns]\n"
     ]
    }
   ],
   "source": [
    "print(df)"
   ]
  },
  {
   "cell_type": "code",
   "execution_count": 32,
   "metadata": {},
   "outputs": [
    {
     "name": "stdout",
     "output_type": "stream",
     "text": [
      "Index(['Rank', 'Name', 'Platform', 'Year', 'Genre', 'Publisher', 'NA_Sales',\n",
      "       'EU_Sales', 'JP_Sales', 'Other_Sales', 'Global_Sales'],\n",
      "      dtype='object')\n"
     ]
    }
   ],
   "source": [
    "print(df.columns)"
   ]
  },
  {
   "cell_type": "code",
   "execution_count": 34,
   "metadata": {},
   "outputs": [
    {
     "name": "stdout",
     "output_type": "stream",
     "text": [
      "0                                                Asteroids\n",
      "1                                          Missile Command\n",
      "2                                                  Kaboom!\n",
      "3                                                 Defender\n",
      "4                                                   Boxing\n",
      "                               ...                        \n",
      "16319                                         Mighty No. 9\n",
      "16320                                   Resident Evil 4 HD\n",
      "16321                        Farming 2017 - The Simulation\n",
      "16322                                    Rugby Challenge 3\n",
      "16323    Chou Ezaru wa Akai Hana: Koi wa Tsuki ni Shiru...\n",
      "Name: Name, Length: 16324, dtype: object\n"
     ]
    }
   ],
   "source": [
    "print(df['Name'])"
   ]
  },
  {
   "cell_type": "code",
   "execution_count": 36,
   "metadata": {},
   "outputs": [
    {
     "name": "stdout",
     "output_type": "stream",
     "text": [
      "                                                    Name       Genre\n",
      "0                                              Asteroids     Shooter\n",
      "1                                        Missile Command     Shooter\n",
      "2                                                Kaboom!        Misc\n",
      "3                                               Defender        Misc\n",
      "4                                                 Boxing    Fighting\n",
      "...                                                  ...         ...\n",
      "16319                                       Mighty No. 9    Platform\n",
      "16320                                 Resident Evil 4 HD     Shooter\n",
      "16321                      Farming 2017 - The Simulation  Simulation\n",
      "16322                                  Rugby Challenge 3      Sports\n",
      "16323  Chou Ezaru wa Akai Hana: Koi wa Tsuki ni Shiru...      Action\n",
      "\n",
      "[16324 rows x 2 columns]\n"
     ]
    }
   ],
   "source": [
    "print(df[['Name','Genre']])"
   ]
  },
  {
   "cell_type": "code",
   "execution_count": 37,
   "metadata": {},
   "outputs": [
    {
     "name": "stdout",
     "output_type": "stream",
     "text": [
      "Name     Missile Command\n",
      "Genre            Shooter\n",
      "Name: 1, dtype: object\n"
     ]
    }
   ],
   "source": [
    "print(df[['Name','Genre']].iloc[1])"
   ]
  },
  {
   "cell_type": "code",
   "execution_count": 38,
   "metadata": {},
   "outputs": [
    {
     "name": "stdout",
     "output_type": "stream",
     "text": [
      "               Name     Genre\n",
      "1   Missile Command   Shooter\n",
      "2           Kaboom!      Misc\n",
      "3          Defender      Misc\n",
      "4            Boxing  Fighting\n",
      "5        Ice Hockey    Sports\n",
      "..              ...       ...\n",
      "95      Donkey Kong  Platform\n",
      "96  Donkey Kong Jr.  Platform\n",
      "97           Popeye  Platform\n",
      "98      Jr. Pac-Man    Puzzle\n",
      "99  Crystal Castles    Action\n",
      "\n",
      "[99 rows x 2 columns]\n"
     ]
    }
   ],
   "source": [
    "print(df[['Name','Genre']].iloc[1:100])"
   ]
  },
  {
   "cell_type": "code",
   "execution_count": 39,
   "metadata": {},
   "outputs": [
    {
     "name": "stdout",
     "output_type": "stream",
     "text": [
      "(16324, 11)\n"
     ]
    }
   ],
   "source": [
    "print(df.shape)"
   ]
  },
  {
   "cell_type": "code",
   "execution_count": 40,
   "metadata": {},
   "outputs": [
    {
     "name": "stdout",
     "output_type": "stream",
     "text": [
      "[[259 'Asteroids' '2600' ... 0.0 0.05 4.31]\n",
      " [545 'Missile Command' '2600' ... 0.0 0.03 2.76]\n",
      " [1768 'Kaboom!' '2600' ... 0.0 0.01 1.15]\n",
      " ...\n",
      " [16573 'Farming 2017 - The Simulation' 'PS4' ... 0.0 0.0 0.01]\n",
      " [16579 'Rugby Challenge 3' 'XOne' ... 0.0 0.0 0.01]\n",
      " [16592 'Chou Ezaru wa Akai Hana: Koi wa Tsuki ni Shirube Kareru' 'PSV'\n",
      "  ... 0.01 0.0 0.01]]\n"
     ]
    }
   ],
   "source": [
    "print(df.values)"
   ]
  },
  {
   "cell_type": "code",
   "execution_count": 41,
   "metadata": {},
   "outputs": [
    {
     "name": "stdout",
     "output_type": "stream",
     "text": [
      "Pac-Man 7.81\n",
      "Duck Hunt 28.31\n",
      "Super Mario Bros. 40.24\n",
      "The Legend of Zelda 6.51\n",
      "Super Mario Bros. 3 17.28\n",
      "Super Mario Bros. 2 7.46\n",
      "Tetris 5.58\n",
      "Tetris 30.26\n",
      "Super Mario Land 18.14\n",
      "Dr. Mario 5.34\n",
      "Super Mario World 20.61\n",
      "Super Mario Land 2: 6 Golden Coins 11.18\n",
      "Super Mario Kart 8.76\n",
      "Street Fighter II: The World Warrior 6.3\n",
      "Sonic the Hedgehog 2 6.03\n",
      "Kirby's Dream Land 5.13\n",
      "Super Mario All-Stars 10.55\n",
      "Donkey Kong Country 9.3\n",
      "Super Mario Land 3: Wario Land 5.19\n",
      "Donkey Kong Country 2: Diddy's Kong Quest 5.15\n",
      "Pokemon Red/Pokemon Blue 31.37\n",
      "Super Mario 64 11.89\n",
      "Mario Kart 64 9.87\n",
      "Crash Bandicoot 6.82\n",
      "Tekken 2 5.74\n",
      "Microsoft Flight Simulator 5.12\n",
      "Resident Evil 5.05\n",
      "Gran Turismo 10.95\n",
      "Final Fantasy VII 9.72\n",
      "GoldenEye 007 8.09\n",
      "Crash Bandicoot 2: Cortex Strikes Back 7.58\n",
      "Tomb Raider II 5.24\n",
      "Pokémon Yellow: Special Pikachu Edition 14.64\n",
      "The Legend of Zelda: Ocarina of Time 7.6\n",
      "Tekken 3 7.16\n",
      "Crash Bandicoot 3: Warped 7.13\n",
      "Metal Gear Solid 6.03\n",
      "Resident Evil 2 5.82\n",
      "Pokemon Gold/Pokemon Silver 23.1\n",
      "Gran Turismo 2 9.49\n",
      "Final Fantasy VIII 7.86\n",
      "Driver 6.27\n",
      "Super Smash Bros. 5.55\n",
      "Pokemon Stadium 5.45\n",
      "Pokemon Pinball 5.31\n",
      "Donkey Kong 64 5.27\n",
      "Super Mario Bros. 5.07\n",
      "Tony Hawk's Pro Skater 5.02\n",
      "Warzone 2100 5.01\n",
      "Pokémon Crystal Version 6.39\n",
      "Final Fantasy IX 5.3\n",
      "Gran Turismo 3: A-Spec 14.98\n",
      "Grand Theft Auto III 13.1\n",
      "Final Fantasy X 8.05\n",
      "Super Smash Bros. Melee 7.07\n",
      "Halo: Combat Evolved 6.43\n",
      "Metal Gear Solid 2: Sons of Liberty 6.05\n",
      "Super Mario Advance 5.49\n",
      "Mario Kart: Super Circuit 5.47\n",
      "Super Mario World 5.46\n",
      "Crash Bandicoot: The Wrath of Cortex 5.42\n",
      "Grand Theft Auto: Vice City 16.15\n",
      "Pokemon Ruby/Pokemon Sapphire 15.85\n",
      "Medal of Honor: Frontline 6.83\n",
      "Kingdom Hearts 6.4\n",
      "Super Mario Sunshine 6.31\n",
      "Need for Speed Underground 7.2\n",
      "Mario Kart: Double Dash!! 6.95\n",
      "Final Fantasy X-2 5.29\n",
      "Super Mario Bros. 3 5.2\n",
      "Medal of Honor: Rising Sun 5.13\n",
      "Grand Theft Auto: San Andreas 20.81\n",
      "Gran Turismo 4 11.66\n",
      "Pokemon FireRed/Pokemon LeafGreen 10.49\n",
      "Super Mario 64 10.42\n",
      "Halo 2 8.49\n",
      "Need for Speed Underground 2 6.9\n",
      "Pokémon Emerald Version 6.41\n",
      "World of Warcraft 6.28\n",
      "Dragon Quest VIII: Journey of the Cursed King 5.21\n",
      "Nintendogs 24.76\n",
      "Mario Kart DS 23.42\n",
      "Brain Age: Train Your Brain in Minutes a Day 20.22\n",
      "Brain Age 2: More Training in Minutes a Day 15.3\n",
      "Animal Crossing: Wild World 12.27\n",
      "Grand Theft Auto: Liberty City Stories 7.72\n",
      "Big Brain Academy 6.67\n",
      "Wii Sports 82.74\n",
      "New Super Mario Bros. 30.01\n",
      "Wii Play 29.02\n",
      "Pokemon Diamond/Pokemon Pearl 18.36\n",
      "The Legend of Zelda: Twilight Princess 7.31\n",
      "Gears of War 6.11\n",
      "Final Fantasy XII 5.95\n",
      "Cooking Mama 5.72\n",
      "Guitar Hero II 5.12\n",
      "Grand Theft Auto: Vice City Stories 5.08\n",
      "Wii Fit 22.72\n",
      "Halo 3 12.14\n",
      "Super Mario Galaxy 11.52\n",
      "Call of Duty 4: Modern Warfare 9.32\n",
      "Mario Party DS 9.02\n",
      "Mario Party 8 8.42\n",
      "Mario & Sonic at the Olympic Games 8.06\n",
      "Call of Duty 4: Modern Warfare 6.72\n",
      "LEGO Star Wars: The Complete Saga 5.83\n",
      "Assassin's Creed 5.55\n",
      "Professor Layton and the Curious Village 5.26\n",
      "The Legend of Zelda: Phantom Hourglass 5.17\n",
      "Mario Kart Wii 35.82\n",
      "Super Smash Bros. Brawl 13.04\n",
      "Grand Theft Auto IV 11.02\n",
      "Grand Theft Auto IV 10.57\n",
      "Pokémon Platinum Version 7.84\n",
      "Call of Duty: World at War 7.37\n",
      "Gears of War 2 6.76\n",
      "Metal Gear Solid 4: Guns of the Patriots 6.03\n",
      "LittleBigPlanet 5.92\n",
      "Monster Hunter Freedom Unite 5.5\n",
      "Call of Duty: World at War 5.43\n",
      "Mario & Sonic at the Olympic Games 5.14\n",
      "Wii Sports Resort 33.0\n",
      "New Super Mario Bros. Wii 28.62\n",
      "Wii Fit Plus 22.0\n",
      "Call of Duty: Modern Warfare 2 13.51\n",
      "Pokemon HeartGold/Pokemon SoulSilver 11.9\n",
      "Call of Duty: Modern Warfare 2 10.69\n",
      "The Sims 3 8.11\n",
      "Just Dance 7.27\n",
      "Uncharted 2: Among Thieves 6.73\n",
      "Halo 3: ODST 6.36\n",
      "Dragon Quest IX: Sentinels of the Starry Skies 5.84\n",
      "Assassin's Creed II 5.57\n",
      "Forza Motorsport 3 5.51\n",
      "Final Fantasy XIII 5.36\n",
      "Assassin's Creed II 5.27\n",
      "Resident Evil 5 5.11\n",
      "Kinect Adventures! 21.82\n",
      "Pokemon Black/Pokemon White 15.32\n",
      "Call of Duty: Black Ops 14.64\n",
      "Call of Duty: Black Ops 12.73\n",
      "Gran Turismo 5 10.77\n",
      "Halo: Reach 9.88\n",
      "Just Dance 2 9.52\n",
      "Wii Party 8.49\n",
      "Super Mario Galaxy 2 7.69\n",
      "Zumba Fitness 6.81\n",
      "Red Dead Redemption 6.6\n",
      "Donkey Kong Country Returns 6.59\n",
      "Red Dead Redemption 6.34\n",
      "Kinect Sports 6.24\n",
      "Fable III 5.13\n",
      "FIFA Soccer 11 5.08\n",
      "Call of Duty: Modern Warfare 3 14.76\n",
      "Call of Duty: Modern Warfare 3 13.46\n",
      "Mario Kart 7 12.21\n",
      "Super Mario 3D Land 10.79\n",
      "Just Dance 3 10.26\n",
      "The Elder Scrolls V: Skyrim 8.84\n",
      "Battlefield 3 7.34\n",
      "Battlefield 3 7.23\n",
      "Uncharted 3: Drake's Deception 6.83\n",
      "FIFA 12 6.69\n",
      "The Elder Scrolls V: Skyrim 6.56\n",
      "Gears of War 3 6.24\n",
      "Batman: Arkham City 5.53\n",
      "Call of Duty: Black Ops II 14.03\n",
      "Call of Duty: Black Ops II 13.73\n",
      "New Super Mario Bros. 2 9.82\n",
      "Halo 4 9.76\n",
      "Animal Crossing: New Leaf 9.09\n",
      "Pokemon Black 2/Pokemon White 2 8.33\n",
      "FIFA Soccer 13 8.24\n",
      "Just Dance 4 6.91\n",
      "Assassin's Creed III 6.5\n",
      "Assassin's Creed III 5.3\n",
      "Diablo III 5.2\n",
      "New Super Mario Bros. U 5.19\n",
      "FIFA Soccer 13 5.18\n",
      "Grand Theft Auto V 21.4\n",
      "Grand Theft Auto V 16.38\n",
      "Pokemon X/Pokemon Y 14.35\n",
      "Call of Duty: Ghosts 10.21\n",
      "Call of Duty: Ghosts 9.59\n",
      "Minecraft 9.2\n",
      "FIFA 14 6.9\n",
      "The Last of Us 5.99\n",
      "Tomodachi Life 5.15\n",
      "Grand Theft Auto V 11.98\n",
      "Pokemon Omega Ruby/Pokemon Alpha Sapphire 11.33\n",
      "Call of Duty: Advanced Warfare 7.6\n",
      "Super Smash Bros. for Wii U and 3DS 7.45\n",
      "Mario Kart 8 6.96\n",
      "FIFA 15 6.59\n",
      "Destiny 5.65\n",
      "Minecraft 5.42\n",
      "Call of Duty: Advanced Warfare 5.13\n",
      "Grand Theft Auto V 5.08\n",
      "Super Smash Bros. for Wii U and 3DS 5.02\n",
      "Call of Duty: Black Ops 3 14.24\n",
      "FIFA 16 8.49\n",
      "Star Wars Battlefront (2015) 7.67\n",
      "Call of Duty: Black Ops 3 7.3\n",
      "Fallout 4 6.96\n"
     ]
    }
   ],
   "source": [
    "for x in df.values:\n",
    "    if x[10]>5:\n",
    "        print(x[1],x[10])"
   ]
  },
  {
   "cell_type": "code",
   "execution_count": 42,
   "metadata": {},
   "outputs": [
    {
     "data": {
      "text/html": [
       "<div>\n",
       "<style scoped>\n",
       "    .dataframe tbody tr th:only-of-type {\n",
       "        vertical-align: middle;\n",
       "    }\n",
       "\n",
       "    .dataframe tbody tr th {\n",
       "        vertical-align: top;\n",
       "    }\n",
       "\n",
       "    .dataframe thead th {\n",
       "        text-align: right;\n",
       "    }\n",
       "</style>\n",
       "<table border=\"1\" class=\"dataframe\">\n",
       "  <thead>\n",
       "    <tr style=\"text-align: right;\">\n",
       "      <th></th>\n",
       "      <th>Rank</th>\n",
       "      <th>Year</th>\n",
       "      <th>NA_Sales</th>\n",
       "      <th>EU_Sales</th>\n",
       "      <th>JP_Sales</th>\n",
       "      <th>Other_Sales</th>\n",
       "      <th>Global_Sales</th>\n",
       "    </tr>\n",
       "  </thead>\n",
       "  <tbody>\n",
       "    <tr>\n",
       "      <th>count</th>\n",
       "      <td>16324.000000</td>\n",
       "      <td>16324.000000</td>\n",
       "      <td>16324.000000</td>\n",
       "      <td>16324.000000</td>\n",
       "      <td>16324.000000</td>\n",
       "      <td>16324.000000</td>\n",
       "      <td>16324.000000</td>\n",
       "    </tr>\n",
       "    <tr>\n",
       "      <th>mean</th>\n",
       "      <td>8291.508270</td>\n",
       "      <td>2006.404251</td>\n",
       "      <td>0.265464</td>\n",
       "      <td>0.147581</td>\n",
       "      <td>0.078673</td>\n",
       "      <td>0.048334</td>\n",
       "      <td>0.540328</td>\n",
       "    </tr>\n",
       "    <tr>\n",
       "      <th>std</th>\n",
       "      <td>4792.043734</td>\n",
       "      <td>5.826744</td>\n",
       "      <td>0.821658</td>\n",
       "      <td>0.508809</td>\n",
       "      <td>0.311584</td>\n",
       "      <td>0.189902</td>\n",
       "      <td>1.565860</td>\n",
       "    </tr>\n",
       "    <tr>\n",
       "      <th>min</th>\n",
       "      <td>1.000000</td>\n",
       "      <td>1980.000000</td>\n",
       "      <td>0.000000</td>\n",
       "      <td>0.000000</td>\n",
       "      <td>0.000000</td>\n",
       "      <td>0.000000</td>\n",
       "      <td>0.010000</td>\n",
       "    </tr>\n",
       "    <tr>\n",
       "      <th>25%</th>\n",
       "      <td>4135.750000</td>\n",
       "      <td>2003.000000</td>\n",
       "      <td>0.000000</td>\n",
       "      <td>0.000000</td>\n",
       "      <td>0.000000</td>\n",
       "      <td>0.000000</td>\n",
       "      <td>0.060000</td>\n",
       "    </tr>\n",
       "    <tr>\n",
       "      <th>50%</th>\n",
       "      <td>8293.500000</td>\n",
       "      <td>2007.000000</td>\n",
       "      <td>0.080000</td>\n",
       "      <td>0.020000</td>\n",
       "      <td>0.000000</td>\n",
       "      <td>0.010000</td>\n",
       "      <td>0.170000</td>\n",
       "    </tr>\n",
       "    <tr>\n",
       "      <th>75%</th>\n",
       "      <td>12439.250000</td>\n",
       "      <td>2010.000000</td>\n",
       "      <td>0.240000</td>\n",
       "      <td>0.110000</td>\n",
       "      <td>0.040000</td>\n",
       "      <td>0.040000</td>\n",
       "      <td>0.480000</td>\n",
       "    </tr>\n",
       "    <tr>\n",
       "      <th>max</th>\n",
       "      <td>16600.000000</td>\n",
       "      <td>2016.000000</td>\n",
       "      <td>41.490000</td>\n",
       "      <td>29.020000</td>\n",
       "      <td>10.220000</td>\n",
       "      <td>10.570000</td>\n",
       "      <td>82.740000</td>\n",
       "    </tr>\n",
       "  </tbody>\n",
       "</table>\n",
       "</div>"
      ],
      "text/plain": [
       "               Rank          Year      NA_Sales      EU_Sales      JP_Sales  \\\n",
       "count  16324.000000  16324.000000  16324.000000  16324.000000  16324.000000   \n",
       "mean    8291.508270   2006.404251      0.265464      0.147581      0.078673   \n",
       "std     4792.043734      5.826744      0.821658      0.508809      0.311584   \n",
       "min        1.000000   1980.000000      0.000000      0.000000      0.000000   \n",
       "25%     4135.750000   2003.000000      0.000000      0.000000      0.000000   \n",
       "50%     8293.500000   2007.000000      0.080000      0.020000      0.000000   \n",
       "75%    12439.250000   2010.000000      0.240000      0.110000      0.040000   \n",
       "max    16600.000000   2016.000000     41.490000     29.020000     10.220000   \n",
       "\n",
       "        Other_Sales  Global_Sales  \n",
       "count  16324.000000  16324.000000  \n",
       "mean       0.048334      0.540328  \n",
       "std        0.189902      1.565860  \n",
       "min        0.000000      0.010000  \n",
       "25%        0.000000      0.060000  \n",
       "50%        0.010000      0.170000  \n",
       "75%        0.040000      0.480000  \n",
       "max       10.570000     82.740000  "
      ]
     },
     "execution_count": 42,
     "metadata": {},
     "output_type": "execute_result"
    }
   ],
   "source": [
    "df.describe()"
   ]
  },
  {
   "cell_type": "code",
   "execution_count": 44,
   "metadata": {},
   "outputs": [],
   "source": [
    "import matplotlib.pyplot as plt\n",
    "%matplotlib inline"
   ]
  },
  {
   "cell_type": "code",
   "execution_count": 45,
   "metadata": {},
   "outputs": [
    {
     "data": {
      "text/plain": [
       "<pandas.plotting._core.PlotAccessor object at 0x00000222100DDD10>"
      ]
     },
     "execution_count": 45,
     "metadata": {},
     "output_type": "execute_result"
    },
    {
     "data": {
      "text/plain": [
       "<Figure size 640x480 with 0 Axes>"
      ]
     },
     "metadata": {},
     "output_type": "display_data"
    }
   ],
   "source": [
    "plt.figure()\n",
    "df.plot"
   ]
  },
  {
   "cell_type": "code",
   "execution_count": 46,
   "metadata": {},
   "outputs": [
    {
     "data": {
      "text/plain": [
       "<Axes: >"
      ]
     },
     "execution_count": 46,
     "metadata": {},
     "output_type": "execute_result"
    },
    {
     "data": {
      "image/png": "[encoded data removed]",
      "text/plain": [
       "<Figure size 640x480 with 1 Axes>"
      ]
     },
     "metadata": {},
     "output_type": "display_data"
    }
   ],
   "source": [
    "df[['NA_Sales','EU_Sales','JP_Sales','Other_Sales','Global_Sales']].plot()"
   ]
  },
  {
   "cell_type": "code",
   "execution_count": 47,
   "metadata": {},
   "outputs": [
    {
     "data": {
      "text/plain": [
       "<Axes: >"
      ]
     },
     "execution_count": 47,
     "metadata": {},
     "output_type": "execute_result"
    },
    {
     "data": {
      "image/png": "[encoded data removed]",
      "text/plain": [
       "<Figure size 640x480 with 1 Axes>"
      ]
     },
     "metadata": {},
     "output_type": "display_data"
    }
   ],
   "source": [
    "df[['NA_Sales','EU_Sales','JP_Sales']].plot()"
   ]
  },
  {
   "cell_type": "code",
   "execution_count": 48,
   "metadata": {},
   "outputs": [
    {
     "data": {
      "text/plain": [
       "<Axes: >"
      ]
     },
     "execution_count": 48,
     "metadata": {},
     "output_type": "execute_result"
    },
    {
     "data": {
      "image/png": "[encoded data removed]",
      "text/plain": [
       "<Figure size 640x480 with 1 Axes>"
      ]
     },
     "metadata": {},
     "output_type": "display_data"
    }
   ],
   "source": [
    "df[['NA_Sales','EU_Sales','JP_Sales']].iloc[100:110].plot()"
   ]
  },
  {
   "cell_type": "code",
   "execution_count": 49,
   "metadata": {},
   "outputs": [
    {
     "data": {
      "image/png": "[encoded data removed]",
      "text/plain": [
       "<Figure size 640x480 with 1 Axes>"
      ]
     },
     "metadata": {},
     "output_type": "display_data"
    }
   ],
   "source": [
    "ax = df.iloc[100:110].plot.bar(y=['NA_Sales','EU_Sales','JP_Sales'], x='Name')"
   ]
  },
  {
   "cell_type": "code",
   "execution_count": 50,
   "metadata": {},
   "outputs": [
    {
     "data": {
      "image/png": "[encoded data removed]",
      "text/plain": [
       "<Figure size 640x480 with 1 Axes>"
      ]
     },
     "metadata": {},
     "output_type": "display_data"
    }
   ],
   "source": [
    "ax = df.iloc[100:110].plot.bar(y=['NA_Sales','EU_Sales','JP_Sales'], x='Name', stacked=True)"
   ]
  },
  {
   "cell_type": "code",
   "execution_count": 51,
   "metadata": {},
   "outputs": [
    {
     "data": {
      "image/png": "[encoded data removed]",
      "text/plain": [
       "<Figure size 640x480 with 1 Axes>"
      ]
     },
     "metadata": {},
     "output_type": "display_data"
    }
   ],
   "source": [
    "ax = df.iloc[100:110].plot.bar(y=['NA_Sales','EU_Sales','JP_Sales'], stacked=True)"
   ]
  },
  {
   "cell_type": "code",
   "execution_count": 52,
   "metadata": {},
   "outputs": [
    {
     "data": {
      "text/plain": [
       "<Axes: >"
      ]
     },
     "execution_count": 52,
     "metadata": {},
     "output_type": "execute_result"
    },
    {
     "data": {
      "image/png": "[encoded data removed]",
      "text/plain": [
       "<Figure size 640x480 with 1 Axes>"
      ]
     },
     "metadata": {},
     "output_type": "display_data"
    }
   ],
   "source": [
    "df.plot.box(y=['NA_Sales','EU_Sales','JP_Sales'])"
   ]
  },
  {
   "cell_type": "code",
   "execution_count": 53,
   "metadata": {},
   "outputs": [
    {
     "data": {
      "text/plain": [
       "<Axes: >"
      ]
     },
     "execution_count": 53,
     "metadata": {},
     "output_type": "execute_result"
    },
    {
     "data": {
      "image/png": "[encoded data removed]",
      "text/plain": [
       "<Figure size 640x480 with 1 Axes>"
      ]
     },
     "metadata": {},
     "output_type": "display_data"
    }
   ],
   "source": [
    "df.iloc[100:200].plot.box(y=['NA_Sales','EU_Sales','JP_Sales'])"
   ]
  },
  {
   "cell_type": "code",
   "execution_count": 55,
   "metadata": {},
   "outputs": [
    {
     "data": {
      "text/html": [
       "<div>\n",
       "<style scoped>\n",
       "    .dataframe tbody tr th:only-of-type {\n",
       "        vertical-align: middle;\n",
       "    }\n",
       "\n",
       "    .dataframe tbody tr th {\n",
       "        vertical-align: top;\n",
       "    }\n",
       "\n",
       "    .dataframe thead th {\n",
       "        text-align: right;\n",
       "    }\n",
       "</style>\n",
       "<table border=\"1\" class=\"dataframe\">\n",
       "  <thead>\n",
       "    <tr style=\"text-align: right;\">\n",
       "      <th></th>\n",
       "      <th>NA_Sales</th>\n",
       "      <th>EU_Sales</th>\n",
       "      <th>JP_Sales</th>\n",
       "    </tr>\n",
       "  </thead>\n",
       "  <tbody>\n",
       "    <tr>\n",
       "      <th>count</th>\n",
       "      <td>100.000000</td>\n",
       "      <td>100.000000</td>\n",
       "      <td>100.000000</td>\n",
       "    </tr>\n",
       "    <tr>\n",
       "      <th>mean</th>\n",
       "      <td>1.587200</td>\n",
       "      <td>0.262000</td>\n",
       "      <td>0.929200</td>\n",
       "    </tr>\n",
       "    <tr>\n",
       "      <th>std</th>\n",
       "      <td>4.687797</td>\n",
       "      <td>0.613221</td>\n",
       "      <td>1.084124</td>\n",
       "    </tr>\n",
       "    <tr>\n",
       "      <th>min</th>\n",
       "      <td>0.000000</td>\n",
       "      <td>0.000000</td>\n",
       "      <td>0.000000</td>\n",
       "    </tr>\n",
       "    <tr>\n",
       "      <th>25%</th>\n",
       "      <td>0.100000</td>\n",
       "      <td>0.000000</td>\n",
       "      <td>0.240000</td>\n",
       "    </tr>\n",
       "    <tr>\n",
       "      <th>50%</th>\n",
       "      <td>0.420000</td>\n",
       "      <td>0.035000</td>\n",
       "      <td>0.645000</td>\n",
       "    </tr>\n",
       "    <tr>\n",
       "      <th>75%</th>\n",
       "      <td>0.805000</td>\n",
       "      <td>0.272500</td>\n",
       "      <td>1.255000</td>\n",
       "    </tr>\n",
       "    <tr>\n",
       "      <th>max</th>\n",
       "      <td>29.080000</td>\n",
       "      <td>3.580000</td>\n",
       "      <td>6.810000</td>\n",
       "    </tr>\n",
       "  </tbody>\n",
       "</table>\n",
       "</div>"
      ],
      "text/plain": [
       "         NA_Sales    EU_Sales    JP_Sales\n",
       "count  100.000000  100.000000  100.000000\n",
       "mean     1.587200    0.262000    0.929200\n",
       "std      4.687797    0.613221    1.084124\n",
       "min      0.000000    0.000000    0.000000\n",
       "25%      0.100000    0.000000    0.240000\n",
       "50%      0.420000    0.035000    0.645000\n",
       "75%      0.805000    0.272500    1.255000\n",
       "max     29.080000    3.580000    6.810000"
      ]
     },
     "execution_count": 55,
     "metadata": {},
     "output_type": "execute_result"
    }
   ],
   "source": [
    "df[['NA_Sales','EU_Sales','JP_Sales']].iloc[100:200].describe()"
   ]
  },
  {
   "cell_type": "code",
   "execution_count": null,
   "metadata": {},
   "outputs": [],
   "source": []
  }
 ],
 "metadata": {
  "kernelspec": {
   "display_name": "Python 3",
   "language": "python",
   "name": "python3"
  },
  "language_info": {
   "codemirror_mode": {
    "name": "ipython",
    "version": 3
   },
   "file_extension": ".py",
   "mimetype": "text/x-python",
   "name": "python",
   "nbconvert_exporter": "python",
   "pygments_lexer": "ipython3",
   "version": "3.11.2"
  },
  "orig_nbformat": 4
 },
 "nbformat": 4,
 "nbformat_minor": 2
}
